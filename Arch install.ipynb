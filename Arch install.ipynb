{
 "cells": [
  {
   "cell_type": "code",
   "execution_count": null,
   "id": "6ef68b15",
   "metadata": {},
   "outputs": [],
   "source": [
    "# Load keys\n",
    "loadkeys us"
   ]
  },
  {
   "cell_type": "code",
   "execution_count": null,
   "id": "ab5942e3",
   "metadata": {},
   "outputs": [],
   "source": [
    "# Wifi\n",
    "iwctl\n",
    "    station wlan0 connect [WiFi Network SSID]\n",
    "# It will ask for password\n",
    "exit"
   ]
  },
  {
   "cell_type": "code",
   "execution_count": null,
   "id": "44e4cb61",
   "metadata": {},
   "outputs": [],
   "source": [
    "# Examine and partition the disk\n",
    "fdisk -l\n",
    "wipefs -a /all disk partitions \n",
    "wipefs -a /disk\n",
    "\n",
    "# Disk layout\n",
    "gdisk /disk\n",
    "    # Leave 2M unused at beginning and 2G unused at end\n",
    "    o # create GPT disk\n",
    "    n # create each partition\n",
    "    w # save\n",
    "\n",
    "# EFI 512M type=ef00\n",
    "mkfs.vfat /part1\n",
    "\n",
    "# Swap (maybe) 512M type=8200\n",
    "##mkswap /partwhatever\n",
    "##swapon /partwhatever\n",
    "\n",
    "# I am skipping swap in favor of zramd\n",
    "\n",
    "# Timeshift part Part 50GB type=8300\n",
    "mkfs.ext4 /part2\n",
    "\n",
    "# Main Partition ~550GB type=8300\n",
    "mkfs.ext4 /part3\n",
    "\n",
    "# Consider leaving 200-300GB at end for a security-focused partition\n",
    "### To boot into Kali and Tails USB and use Virtual Machines\n",
    "\n",
    "## Make sure to leave space (2GB) at the end, good practice for SSD"
   ]
  },
  {
   "cell_type": "code",
   "execution_count": null,
   "id": "2302db40",
   "metadata": {},
   "outputs": [],
   "source": [
    "# Mounting\n",
    "mount /part3 /mnt\n",
    "mkdir -p /mnt/boot/efi\n",
    "mount /part1 /mnt/boot/efi\n",
    "mkdir -p /mnt/timeshift\n",
    "mount /part2 /mnt/timeshift"
   ]
  },
  {
   "cell_type": "code",
   "execution_count": null,
   "id": "1e8fa536",
   "metadata": {},
   "outputs": [],
   "source": [
    "# Refresh Arch mirrors\n",
    "\n",
    "# Check mirrorlist if you want\n",
    "cat /etc/pacman.d/mirrorlist\n",
    "\n",
    "# Update mirrorlist\n",
    "pacman -Syyy"
   ]
  },
  {
   "cell_type": "code",
   "execution_count": null,
   "id": "73aa4a8a",
   "metadata": {},
   "outputs": [],
   "source": [
    "# pacstrap base\n",
    "pacstrap /mnt base base-devel linux linux-firmware git vim intel-ucode"
   ]
  },
  {
   "cell_type": "code",
   "execution_count": null,
   "id": "8de0be47",
   "metadata": {},
   "outputs": [],
   "source": [
    "# Create fstab\n",
    "genfstab -U /mnt >> /mnt/etc/fstab\n",
    "\n",
    "# Make sure fstab looks alright\n",
    "cat /mnt/etc/fstab"
   ]
  },
  {
   "cell_type": "code",
   "execution_count": null,
   "id": "54bf494c",
   "metadata": {},
   "outputs": [],
   "source": [
    "# Arch-chroot into fresh install\n",
    "arch-chroot /mnt"
   ]
  },
  {
   "cell_type": "code",
   "execution_count": null,
   "id": "22bf50f5",
   "metadata": {},
   "outputs": [],
   "source": [
    "# Can either type line-by-line or chmod +x to execute after editing\n",
    "\n",
    "#!/bin/bash\n",
    "\n",
    "# Locales\n",
    "ln -sf /usr/share/zoneinfo/America/New_York /etc/localtime\n",
    "hwclock --systohc\n",
    "sed -i '177s/.//' /etc/locale.gen\n",
    "locale-gen\n",
    "echo \"LANG=en_US.UTF-8\" >> /etc/locale.conf\n",
    "echo \"KEYMAP=us\" >> /etc/vconsole.conf\n",
    "\n",
    "# Host name is computer in this script\n",
    "echo \"computer\" >> /etc/hostname\n",
    "echo \"127.0.0.1 localhost\" >> /etc/hosts\n",
    "echo \"::1       localhost\" >> /etc/hosts\n",
    "echo \"127.0.1.1 computer.localdomain computer\" >> /etc/hosts\n",
    "echo yourrootpassword | passwd\n",
    "\n",
    "pacman -S grub efibootmgr dosfstools mtools os-prober linux-headers networkmanager network-manager-applet wpa_supplicant wireless_tools dialog\n",
    "pacman -S xdg-user-dirs xdg-utils xdg-desktop-portal-gtk archlinux-xdg-menu fakeroot\n",
    "# Install xorg stuff\n",
    "pacman -S xorg xorg-server xorg-xinit xorg-xhost xorg-xinput xorg-xkill xorg-xprop xorg-xrandr autorandr xorg-xsetroot xorg-xwininfo xorg-xkbutils xorg-xprop xdotool xorg-xmodmap xorg-x11perf xorg-xauth xorg-iceauth \n",
    "pacman -S pacman-contrib automake iptables-nft nfs-utils nilfs-utils inetutils dnsutils bridge-utils dnsmasq ntp numlockx poppler-glib\n",
    "pacman -S acpi acpi_call acpid openbsd-netcat ipset nss-mdns tumbler hdparm laptop-detect less\n",
    "pacman -S gvfs gvfs-smb gvfs-nfs gvfs-afc input-devices-support dconf-editor exfatprogs file-roller\n",
    "pacman -S reflector tlp wget2 flatpak pcmanfm vim-plugins usbutils firewalld bash-completion rsync openssh ntfs-3g dmraid unzip unrar gzip\n",
    "pacman -S mesa xf86-video-intel nvidia nvidia-settings nvidia-utils bluez bluez-utils blueberry\n",
    "pacman -S sof-firmware alsa-firmware alsa-utils alsa-plugins alsa-support pipewire pipewire-pulse pipewire-alsa pipewire-jack pavucontrol mpv\n",
    "\n",
    "grub-install --target=x86_64-efi --efi-directory=/boot/efi --bootloader-id=GRUB\n",
    "grub-mkconfig -o /boot/grub/grub.cfg\n",
    "\n",
    "reflector\n",
    "systemctl enable NetworkManager\n",
    "systemctl enable fstrim.timer\n",
    "#systemctl enable reflector.timer\n",
    "systemctl enable firewalld\n",
    "#systemctl enable acpid\n",
    "#systemctl enable tlp\n",
    "#systemctl enable avahi-deamon\n",
    "\n",
    "# Use your actual username instead of username\n",
    "useradd -m -g users -G wheel username\n",
    "echo youruserpassword | passwd username\n",
    "\n",
    "# Edit sudoers\n",
    "echo \"%wheel ALL=(ALL) ALL\" >> visudo"
   ]
  },
  {
   "cell_type": "code",
   "execution_count": null,
   "id": "c2020a06",
   "metadata": {},
   "outputs": [],
   "source": [
    "# Make sure it works\n",
    "\n",
    "# Exit chroot env\n",
    "exit\n",
    "\n",
    "# Umount\n",
    "umount -a\n",
    "# Reboot\n",
    "reboot\n",
    "\n",
    "# Log in as user and select network\n",
    "nmtui "
   ]
  },
  {
   "cell_type": "code",
   "execution_count": null,
   "id": "3205a594",
   "metadata": {},
   "outputs": [],
   "source": [
    "# Add multilib\n",
    "sudo vim /etc/pacman.conf\n",
    "    # Uncomment multilib repo\n",
    "    \n",
    "# Save mirrorlist config\n",
    "sudo reflector --country US --protocol https --latest 10 --age 12 --sort rate --save /etc/pacman.d/mirrorlist\n",
    "sudo systemctl enable --now reflector.timer\n",
    "# Update\n",
    "sudo pacman -Syu"
   ]
  },
  {
   "cell_type": "code",
   "execution_count": null,
   "id": "0f34a470",
   "metadata": {},
   "outputs": [],
   "source": [
    "# Update mkinitcpio\n",
    "sudo vim /etc/mkinitcpio.conf\n",
    "    # add MODULES(i915 nvidia)\n",
    "\n",
    "sudo mkinitcpio -p linux\n",
    "\n",
    "# In etc/fstab\n",
    "# Make sure root partition has discard option for good usage"
   ]
  },
  {
   "cell_type": "code",
   "execution_count": null,
   "id": "a580c702",
   "metadata": {},
   "outputs": [],
   "source": [
    "# Get AUR helper\n",
    "mkdir ~/git-installs\n",
    "cd ~/git-installs\n",
    "git clone https://aur.archlinux.org/yay.git\n",
    "cd yay\n",
    "makepkg -si"
   ]
  },
  {
   "cell_type": "code",
   "execution_count": null,
   "id": "ba25877d",
   "metadata": {},
   "outputs": [],
   "source": [
    "# Install AUR packages\n",
    "yay -S optimus-manager optimus-manager-qt\n",
    "yay -S timeshift stacer\n",
    "yay -S rustup\n",
    " # then run rustup default stable\n",
    "yay -S brave-bin libreoffice-fresh \n",
    "yay -S zramd\n",
    "yay -S mullvad-vpn\n",
    "yay -S lightdm lightdm-gtk-greeter lightdm-gtk-greeter-settings polkit\n",
    "yay -S lxsession lxappearance kvantum-qt5 qt5ct yad scrot brightnessctl gtk-engine-murrine ant-dracula-gtk-theme ant-dracula-kvantum-theme\n",
    "yay -S picom-ibhagwan-git qtile\n",
    "yay -S visual-studio-code-bin virtualbox etcher-bin upower\n",
    "yay -S nwg-launchers dmenu rofi kitty urxvt nitrogen xarchiver\n",
    "yay -S awesome-terminal-fonts ttf-jetbrains-mono ttf-anonymous-pro ttf-ms-fonts ttf-roboto-mono ttf-joypixels ttf-font-awesome ttf-hack ttf-ubuntu-font-family ttf-hellvetica adobe-source-code-pro-fonts\n",
    "yay -S isw #nvidia-settings may already have fans feature\n",
    "yay -S jupyter-notebook downgrade appimagelauncher gparted htop lshw cpu-x inxi\n",
    "yay -S python-extras python-psutil "
   ]
  },
  {
   "cell_type": "code",
   "execution_count": null,
   "id": "74daac32",
   "metadata": {},
   "outputs": [],
   "source": [
    "# Configure and enable services\n",
    "\n",
    "# Git clone your repos\n",
    "#Follow the fan config\n",
    "\n",
    "# Swap\n",
    "sudo vim /etc/default/zramd.conf\n",
    "    # changes: MAX=1500 PRIORITY=20 FRACTION=0.2\n",
    "sudo systemctl enable --now zramd\n",
    "\n",
    "# Audio \n",
    "systemctl --user enable pipewire pipewire-pulse pipewire-media-session\n",
    "\n",
    "# Optimus\n",
    "sudo systemctl enable optimus-manager\n",
    "\n",
    "# LightDM\n",
    "sudo systemctl enable lightdm"
   ]
  },
  {
   "cell_type": "code",
   "execution_count": null,
   "id": "894fc6aa",
   "metadata": {},
   "outputs": [],
   "source": [
    "sudo vim /etc/default/grub\n",
    "    # Add GRUB_DISABLE_OS_PROBER=false\n",
    "    # Add the ecsys/isw/quietsplash etc modules\n",
    "sudo grub-mkconfig -o /boot/grub/grub.cfg"
   ]
  },
  {
   "cell_type": "code",
   "execution_count": null,
   "id": "b8b22d4b",
   "metadata": {},
   "outputs": [],
   "source": [
    "# Remember to clone repos, edit configs, and make executable\n",
    "    # .xinitrc , .config files, bash_profile, any autostarts\n",
    "    # lxappearance, kvantum, qt5ct, gtk2\n",
    "    \n",
    "# Verify trim-support with lsblk --TRIM\n",
    "# Read improving performance and fstrim/Solid State Drive pages of Arch wiki"
   ]
  }
 ],
 "metadata": {
  "kernelspec": {
   "display_name": "Bash",
   "language": "bash",
   "name": "bash"
  },
  "language_info": {
   "codemirror_mode": "shell",
   "file_extension": ".sh",
   "mimetype": "text/x-sh",
   "name": "bash"
  }
 },
 "nbformat": 4,
 "nbformat_minor": 5
}
